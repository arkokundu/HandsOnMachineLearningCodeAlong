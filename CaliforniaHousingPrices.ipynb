{
 "cells": [
  {
   "cell_type": "markdown",
   "metadata": {},
   "source": [
    "## Task: use california census data to build a model of housing prices in the state\n",
    "Metrics:\n",
    "1. population\n",
    "2. median income\n",
    "3. median housing price for each block  group (districts)\n",
    "\n"
   ]
  },
  {
   "cell_type": "markdown",
   "metadata": {},
   "source": [
    "1) Frame the problem -\n",
    " - what is the business objective?\n",
    " - what does the current solution look like?\n"
   ]
  },
  {
   "cell_type": "markdown",
   "metadata": {},
   "source": [
    "## Pipeline:\n",
    "- sequence of data processing components\n",
    "- run asynchronously\n",
    "- each component is fairly self-contained\n",
    "- robust architecture (in case of breakdowns of any individual component)"
   ]
  },
  {
   "cell_type": "markdown",
   "metadata": {},
   "source": [
    "## Frame the problem\n",
    "- supervised learning task (labelled training examples)\n",
    "- regression task (need to predict a value)\n",
    "- multiple regression (system will use multiple features to make a prediction) \n",
    "- univariate regression problem (only trying to predict single value for each district)\n",
    "- no continuous flow of data coming into the system \n",
    "    - no need to adjust to changing data rapidly\n",
    "    - batch learning will do fine (instead of online(incremental) learning)"
   ]
  },
  {
   "cell_type": "code",
   "execution_count": null,
   "metadata": {},
   "outputs": [],
   "source": []
  }
 ],
 "metadata": {
  "kernelspec": {
   "display_name": "Python 3",
   "language": "python",
   "name": "python3"
  },
  "language_info": {
   "codemirror_mode": {
    "name": "ipython",
    "version": 3
   },
   "file_extension": ".py",
   "mimetype": "text/x-python",
   "name": "python",
   "nbconvert_exporter": "python",
   "pygments_lexer": "ipython3",
   "version": "3.8.3"
  }
 },
 "nbformat": 4,
 "nbformat_minor": 4
}
